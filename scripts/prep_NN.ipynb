{
 "cells": [
  {
   "cell_type": "code",
   "execution_count": 2,
   "metadata": {},
   "outputs": [],
   "source": [
    "import pandas as pd\n",
    "import glob\n",
    "df = pd.read_json('./dataset/DF_clean.json')\n",
    "df_2 = pd.read_json('./dataset/DF_manrev_clean_bp.json')"
   ]
  },
  {
   "cell_type": "code",
   "execution_count": 3,
   "metadata": {},
   "outputs": [],
   "source": [
    "import pandas as pd\n",
    "\n",
    "# Assuming df and df_2 are already defined and have 'pt_num' and 'trial_nbr' columns\n",
    "df_old = df.copy()\n",
    "\n",
    "# Step 3: Create a temporary key by concatenating 'pt_num' and 'trial_nbr'\n",
    "df['temp_key'] = df['pt_num'].astype(str) + '_' + df['trial_nbr'].astype(str)\n",
    "df_2['temp_key'] = df_2['pt_num'].astype(str) + '_' + df_2['trial_nbr'].astype(str)\n",
    "\n",
    "# Step 4: Create a new column 'status' in df\n",
    "df['status'] = 'bad'  # Default to 'bad'\n",
    "\n",
    "# Step 5: Update the 'status' column based on existence in df_2\n",
    "df.loc[df['temp_key'].isin(df_2['temp_key']), 'status'] = 'good'\n",
    "\n",
    "# Step 6: Optionally, remove the temporary key columns\n",
    "df.drop('temp_key', axis=1, inplace=True)\n",
    "df_2.drop('temp_key', axis=1, inplace=True)\n",
    "\n",
    "# df now contains the 'status' column with 'good' or 'bad' labels"
   ]
  },
  {
   "cell_type": "code",
   "execution_count": 4,
   "metadata": {},
   "outputs": [
    {
     "name": "stdout",
     "output_type": "stream",
     "text": [
      "status\n",
      "good    41535\n",
      "bad     11619\n",
      "Name: count, dtype: int64\n"
     ]
    }
   ],
   "source": [
    "# Count the number of 'good' and 'bad' trials in the 'status' column\n",
    "status_counts = df['status'].value_counts()\n",
    "\n",
    "# Print the counts\n",
    "print(status_counts)"
   ]
  },
  {
   "cell_type": "code",
   "execution_count": 5,
   "metadata": {},
   "outputs": [],
   "source": [
    "df['x_values'] = df['downsampled_traj'].apply(lambda traj: [point[0] for point in traj])\n",
    "df['y_values'] = df['downsampled_traj'].apply(lambda traj: [point[1] for point in traj])"
   ]
  },
  {
   "cell_type": "code",
   "execution_count": 6,
   "metadata": {},
   "outputs": [],
   "source": [
    "df.drop(columns=['index', 'pt_num', 'Age', 'Gender', 'Handedness', 'trial_nbr', 'block_number', 'traj_record', 'traj_timestamp', 'stim_traj', 'rt', 'acc', 'choice', 'true_value', 'difficulty', 'c_value', 'trial_duration', 'Experiment Duration', 'previous_response', 'downsampled_traj', 'timestamps'], inplace=True)"
   ]
  },
  {
   "cell_type": "code",
   "execution_count": 11,
   "metadata": {},
   "outputs": [],
   "source": [
    "len(df['y_values'][45])\n",
    "df.to_json('./dataset/DF_NN.json')"
   ]
  }
 ],
 "metadata": {
  "kernelspec": {
   "display_name": "base",
   "language": "python",
   "name": "python3"
  },
  "language_info": {
   "codemirror_mode": {
    "name": "ipython",
    "version": 3
   },
   "file_extension": ".py",
   "mimetype": "text/x-python",
   "name": "python",
   "nbconvert_exporter": "python",
   "pygments_lexer": "ipython3",
   "version": "3.11.5"
  }
 },
 "nbformat": 4,
 "nbformat_minor": 2
}
